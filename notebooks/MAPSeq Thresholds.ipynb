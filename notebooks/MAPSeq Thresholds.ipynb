{
 "cells": [
  {
   "cell_type": "code",
   "execution_count": 70,
   "id": "43b947cc",
   "metadata": {},
   "outputs": [
    {
     "name": "stdout",
     "output_type": "stream",
     "text": [
      "Done\n"
     ]
    }
   ],
   "source": [
    "import logging\n",
    "import os\n",
    "import sys\n",
    "from configparser import ConfigParser\n",
    "import pandas as pd\n",
    "import matplotlib.pyplot as plt\n",
    "import seaborn as sns\n",
    "\n",
    "# for handling barcode tags with letters and numbers. \n",
    "from natsort import natsorted\n",
    "\n",
    "# Allowing to run from git. \n",
    "gitpath=os.path.expanduser(\"~/git/mapseq-processing\")\n",
    "sys.path.append(gitpath)\n",
    "\n",
    "gitpath=os.path.expanduser(\"~/git/cshlwork\")\n",
    "sys.path.append(gitpath)\n",
    "\n",
    "from mapseq.core import * \n",
    "from mapseq.barcode import *\n",
    "from cshlwork.utils import dataframe_to_seqlist, write_fasta_from_df, run_command_shell, NonZeroReturnException, setup_logging\n",
    "from alignment.bowtie import run_bowtie, make_bowtie_df, make_adjacency_df\n",
    "\n",
    "cp = get_default_config()\n",
    "logging.getLogger().setLevel(logging.DEBUG)\n",
    "sampleinfo = os.path.expanduser('~/project/mapseq/M229/Mseq229_sampleinfo.xlsx')\n",
    "barcodes = os.path.expanduser('~/project/mapseq/M229/ssi_v2.txt')\n",
    "outdir = os.path.expanduser('~/project/mapseq/M229/out')\n",
    "infiles = [\n",
    "    #os.path.expanduser('~/project/mapseq/M229/out/SSI281.44.counts.tsv'),\n",
    "    #os.path.expanduser('~/project/mapseq/M229/out/SSI282.44.counts.tsv'),\n",
    "    #os.path.expanduser('~/project/mapseq/M229/out/SSI283.44.counts.tsv'),\n",
    "    #os.path.expanduser('~/project/mapseq/M229/out/SSI284.44.counts.tsv'),\n",
    "    #os.path.expanduser('~/project/mapseq/M229/out/SSI285.44.counts.tsv'),\n",
    "    os.path.expanduser('~/project/mapseq/M229/out/SSI287.44.counts.tsv'),\n",
    "    #os.path.expanduser('~/project/mapseq/M229/out/SSI288.44.counts.tsv'),\n",
    "          ]\n",
    "print(\"Done\")"
   ]
  },
  {
   "cell_type": "code",
   "execution_count": 71,
   "id": "fde3a53a",
   "metadata": {},
   "outputs": [
    {
     "name": "stderr",
     "output_type": "stream",
     "text": [
      "2023-05-19 14:09:27,669 (UTC) [ DEBUG ] utils.py:192 root.fix_columns_int(): trying to fix col counts\n"
     ]
    },
    {
     "name": "stdout",
     "output_type": "stream",
     "text": [
      "                                           sequence  counts   label  logcounts\n",
      "0      AGATGTGAATCCGTGATAGGAGGCCCCCGCCCATGAGGATGTCG      54  SSI287   3.988984\n",
      "1      CCAGGAGGATGGGCTGCCCCAGCTTTAGTTTCGTTCGTGCTTGT      50  SSI287   3.912023\n",
      "2      AGGCAGGGAAGAGGTGGAGTAGATGATGGGTCAACTGTTCCGGG      12  SSI287   2.484907\n",
      "3      TGAGCTTAATGCTTGGGAGCGTGCTGGTGCTGTTTGATTTGGTC      10  SSI287   2.302585\n",
      "4      AATCCAAAACGGCAGAAGCCTGAATGAGCTTACTGCTGGCGGAA       9  SSI287   2.197225\n",
      "...                                             ...     ...     ...        ...\n",
      "26067  AACACCAATCTTTCCAAGCAACAGCAGGTTTCAGAAGGGTAATA       1  SSI287   0.000000\n",
      "26068  TTTACGAATAAAATCGAAGTGGACTGCTGGCGCGGTTAAATCCA       1  SSI287   0.000000\n",
      "26069  GACGTTCTTACTGACGCAGAAGAAAACGTGCGGTAAAAATGTCT       1  SSI287   0.000000\n",
      "26070  ATAAAACTCTGCAGGTTGGATACGCCAATCATTCGCAGTTCGCT       1  SSI287   0.000000\n",
      "26071  TGACAGAATCGTTAGTTGATGGCGAAAGGTCGTGACAAATCTGT       1  SSI287   0.000000\n",
      "\n",
      "[26072 rows x 4 columns]\n"
     ]
    }
   ],
   "source": [
    "for infile in infiles:\n",
    "    cdf = pd.read_csv(infile, sep='\\t', index_col=0, keep_default_na=False, dtype =str, comment=\"#\")\n",
    "    cdf = fix_columns_int(cdf, ['counts'])\n",
    "    cdf['logcounts'] = np.log(cdf.counts)\n",
    "    \n",
    "print(cdf)"
   ]
  },
  {
   "cell_type": "code",
   "execution_count": 72,
   "id": "09943d77",
   "metadata": {},
   "outputs": [
    {
     "name": "stderr",
     "output_type": "stream",
     "text": [
      "2023-05-19 14:09:31,210 (UTC) [ INFO ] core.py:384 root.threshold_counts(): thresh = 2\n"
     ]
    },
    {
     "data": {
      "text/html": [
       "<div>\n",
       "<style scoped>\n",
       "    .dataframe tbody tr th:only-of-type {\n",
       "        vertical-align: middle;\n",
       "    }\n",
       "\n",
       "    .dataframe tbody tr th {\n",
       "        vertical-align: top;\n",
       "    }\n",
       "\n",
       "    .dataframe thead th {\n",
       "        text-align: right;\n",
       "    }\n",
       "</style>\n",
       "<table border=\"1\" class=\"dataframe\">\n",
       "  <thead>\n",
       "    <tr style=\"text-align: right;\">\n",
       "      <th></th>\n",
       "      <th>sequence</th>\n",
       "      <th>counts</th>\n",
       "      <th>label</th>\n",
       "      <th>logcounts</th>\n",
       "    </tr>\n",
       "  </thead>\n",
       "  <tbody>\n",
       "    <tr>\n",
       "      <th>0</th>\n",
       "      <td>AGATGTGAATCCGTGATAGGAGGCCCCCGCCCATGAGGATGTCG</td>\n",
       "      <td>54</td>\n",
       "      <td>SSI287</td>\n",
       "      <td>3.988984</td>\n",
       "    </tr>\n",
       "    <tr>\n",
       "      <th>1</th>\n",
       "      <td>CCAGGAGGATGGGCTGCCCCAGCTTTAGTTTCGTTCGTGCTTGT</td>\n",
       "      <td>50</td>\n",
       "      <td>SSI287</td>\n",
       "      <td>3.912023</td>\n",
       "    </tr>\n",
       "    <tr>\n",
       "      <th>2</th>\n",
       "      <td>AGGCAGGGAAGAGGTGGAGTAGATGATGGGTCAACTGTTCCGGG</td>\n",
       "      <td>12</td>\n",
       "      <td>SSI287</td>\n",
       "      <td>2.484907</td>\n",
       "    </tr>\n",
       "    <tr>\n",
       "      <th>3</th>\n",
       "      <td>TGAGCTTAATGCTTGGGAGCGTGCTGGTGCTGTTTGATTTGGTC</td>\n",
       "      <td>10</td>\n",
       "      <td>SSI287</td>\n",
       "      <td>2.302585</td>\n",
       "    </tr>\n",
       "    <tr>\n",
       "      <th>4</th>\n",
       "      <td>AATCCAAAACGGCAGAAGCCTGAATGAGCTTACTGCTGGCGGAA</td>\n",
       "      <td>9</td>\n",
       "      <td>SSI287</td>\n",
       "      <td>2.197225</td>\n",
       "    </tr>\n",
       "    <tr>\n",
       "      <th>...</th>\n",
       "      <td>...</td>\n",
       "      <td>...</td>\n",
       "      <td>...</td>\n",
       "      <td>...</td>\n",
       "    </tr>\n",
       "    <tr>\n",
       "      <th>7806</th>\n",
       "      <td>AGTGTGGATCTGTTAGAACGACCGCGTCAGTCTGTCCGTTTCTC</td>\n",
       "      <td>2</td>\n",
       "      <td>SSI287</td>\n",
       "      <td>0.693147</td>\n",
       "    </tr>\n",
       "    <tr>\n",
       "      <th>7807</th>\n",
       "      <td>CCTTTCTTTTTGGGGTAATTATACTCATCGCGGCTTCCATAAGC</td>\n",
       "      <td>2</td>\n",
       "      <td>SSI287</td>\n",
       "      <td>0.693147</td>\n",
       "    </tr>\n",
       "    <tr>\n",
       "      <th>7808</th>\n",
       "      <td>TGCGGTTATCCATCTGCTTATGGAAGCCAAGCTGGCGCTACTGC</td>\n",
       "      <td>2</td>\n",
       "      <td>SSI287</td>\n",
       "      <td>0.693147</td>\n",
       "    </tr>\n",
       "    <tr>\n",
       "      <th>7809</th>\n",
       "      <td>CGAAGTGGACTGCTGGCGGAAAATGAGAAAATTTACTCGTCAGA</td>\n",
       "      <td>2</td>\n",
       "      <td>SSI287</td>\n",
       "      <td>0.693147</td>\n",
       "    </tr>\n",
       "    <tr>\n",
       "      <th>7810</th>\n",
       "      <td>CTCTAATCTCTGGGCATCTGGCTATGATGTTGGGTTCCTGAATG</td>\n",
       "      <td>2</td>\n",
       "      <td>SSI287</td>\n",
       "      <td>0.693147</td>\n",
       "    </tr>\n",
       "  </tbody>\n",
       "</table>\n",
       "<p>7811 rows × 4 columns</p>\n",
       "</div>"
      ],
      "text/plain": [
       "                                          sequence  counts   label  logcounts\n",
       "0     AGATGTGAATCCGTGATAGGAGGCCCCCGCCCATGAGGATGTCG      54  SSI287   3.988984\n",
       "1     CCAGGAGGATGGGCTGCCCCAGCTTTAGTTTCGTTCGTGCTTGT      50  SSI287   3.912023\n",
       "2     AGGCAGGGAAGAGGTGGAGTAGATGATGGGTCAACTGTTCCGGG      12  SSI287   2.484907\n",
       "3     TGAGCTTAATGCTTGGGAGCGTGCTGGTGCTGTTTGATTTGGTC      10  SSI287   2.302585\n",
       "4     AATCCAAAACGGCAGAAGCCTGAATGAGCTTACTGCTGGCGGAA       9  SSI287   2.197225\n",
       "...                                            ...     ...     ...        ...\n",
       "7806  AGTGTGGATCTGTTAGAACGACCGCGTCAGTCTGTCCGTTTCTC       2  SSI287   0.693147\n",
       "7807  CCTTTCTTTTTGGGGTAATTATACTCATCGCGGCTTCCATAAGC       2  SSI287   0.693147\n",
       "7808  TGCGGTTATCCATCTGCTTATGGAAGCCAAGCTGGCGCTACTGC       2  SSI287   0.693147\n",
       "7809  CGAAGTGGACTGCTGGCGGAAAATGAGAAAATTTACTCGTCAGA       2  SSI287   0.693147\n",
       "7810  CTCTAATCTCTGGGCATCTGGCTATGATGTTGGGTTCCTGAATG       2  SSI287   0.693147\n",
       "\n",
       "[7811 rows x 4 columns]"
      ]
     },
     "execution_count": 72,
     "metadata": {},
     "output_type": "execute_result"
    }
   ],
   "source": [
    "cdf = threshold_counts(cp, cdf)\n",
    "plotdf = cdf\n",
    "plotdf['logcounts'] = np.log(plotdf.counts)\n",
    "#sns.lineplot(data=plotdf, x= np.log(plotdf.index), y = 'logcounts')\n",
    "#sns.lineplot(data=plotdf, x= plotdf.index, y = 'counts')\n",
    "label = list(plotdf['label'].unique())[0]\n",
    "label\n",
    "plotdf"
   ]
  },
  {
   "cell_type": "code",
   "execution_count": 73,
   "id": "ab61f8ee",
   "metadata": {},
   "outputs": [
    {
     "data": {
      "image/png": "[encoded data removed]",
      "text/plain": [
       "<Figure size 640x480 with 1 Axes>"
      ]
     },
     "metadata": {},
     "output_type": "display_data"
    }
   ],
   "source": [
    "#sns.lineplot(data=plotdf, x= np.log(plotdf.index), y = 'logcounts')\n",
    "ax = sns.lineplot(data=plotdf, x= plotdf.index, y = 'logcounts')\n",
    "ax.set(xlabel='Sequence Rank',\n",
    "      ylabel='log(counts)',\n",
    "      title = f'M229 {label}')\n",
    "\n",
    "plt.show()\n"
   ]
  }
 ],
 "metadata": {
  "kernelspec": {
   "display_name": "Python 3 (ipykernel)",
   "language": "python",
   "name": "python3"
  },
  "language_info": {
   "codemirror_mode": {
    "name": "ipython",
    "version": 3
   },
   "file_extension": ".py",
   "mimetype": "text/x-python",
   "name": "python",
   "nbconvert_exporter": "python",
   "pygments_lexer": "ipython3",
   "version": "3.9.16"
  }
 },
 "nbformat": 4,
 "nbformat_minor": 5
}
