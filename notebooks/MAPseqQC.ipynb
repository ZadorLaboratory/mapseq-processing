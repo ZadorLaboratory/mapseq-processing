{
 "cells": [
  {
   "cell_type": "markdown",
   "id": "255fbc1c-3178-4cc0-890b-551040103e41",
   "metadata": {},
   "source": [
    "### Imports"
   ]
  },
  {
   "cell_type": "code",
   "execution_count": 2,
   "id": "9098e26a-87ad-457a-8fc1-0504f37de37a",
   "metadata": {},
   "outputs": [
    {
     "name": "stdout",
     "output_type": "stream",
     "text": [
      "Done\n"
     ]
    }
   ],
   "source": [
    "#!/usr/bin/env python\n",
    "import itertools\n",
    "import logging\n",
    "import os\n",
    "import sys\n",
    "\n",
    "from configparser import ConfigParser\n",
    "import numpy as np\n",
    "import matplotlib.pyplot as plt\n",
    "import pandas as pd\n",
    "import pyarrow as pa\n",
    "import pyarrow.parquet as pq\n",
    "import seaborn as sns\n",
    "import scipy\n",
    "\n",
    "gitpath=os.path.expanduser(\"~/git/mapseq-processing\")\n",
    "sys.path.append(gitpath)\n",
    "\n",
    "from mapseq.core import *\n",
    "from mapseq.barcode import *\n",
    "from mapseq.utils import *\n",
    "from mapseq.stats import *\n",
    "\n",
    "gitpath=os.path.expanduser(\"~/git/mapseq-analysis\")\n",
    "sys.path.append(gitpath)\n",
    "\n",
    "from msanalysis.analysis import *\n",
    "\n",
    "print('Done')"
   ]
  },
  {
   "cell_type": "markdown",
   "id": "30d3152b-c51e-437b-8200-9c19cdc28425",
   "metadata": {},
   "source": [
    "### Configuration"
   ]
  },
  {
   "cell_type": "code",
   "execution_count": 11,
   "id": "55ae79c5-0006-455b-b0cd-98c9073cf2ee",
   "metadata": {},
   "outputs": [
    {
     "data": {
      "text/plain": [
       "<configparser.ConfigParser at 0x33906ce90>"
      ]
     },
     "execution_count": 11,
     "metadata": {},
     "output_type": "execute_result"
    }
   ],
   "source": [
    "logging.getLogger().setLevel(logging.INFO)\n",
    "vbctable = os.path.expanduser('~/project/mapseq/M282.nextseq/vbctable.out/M282.vbctable.tsv')\n",
    "conffile = os.path.expanduser('~/project/mapseq/M282.nextseq/M282.nextseq.conf' )\n",
    "cp = ConfigParser()\n",
    "cp.read(conffile)"
   ]
  },
  {
   "cell_type": "markdown",
   "id": "1c708fb1-b49f-4ae3-8b9d-8bb63f1c427f",
   "metadata": {},
   "source": [
    "### Load data and config"
   ]
  },
  {
   "cell_type": "code",
   "execution_count": 12,
   "id": "f28149fc-cc1a-4054-8ce3-29f6e2f04af5",
   "metadata": {},
   "outputs": [
    {
     "name": "stderr",
     "output_type": "stream",
     "text": [
      "INFO:root:loading /Users/hover/project/mapseq/M282.nextseq/vbctable.out/M282.vbctable.tsv as format vbctable use_dask=False chunksize=50000000\n"
     ]
    },
    {
     "data": {
      "text/html": [
       "<div>\n",
       "<style scoped>\n",
       "    .dataframe tbody tr th:only-of-type {\n",
       "        vertical-align: middle;\n",
       "    }\n",
       "\n",
       "    .dataframe tbody tr th {\n",
       "        vertical-align: top;\n",
       "    }\n",
       "\n",
       "    .dataframe thead th {\n",
       "        text-align: right;\n",
       "    }\n",
       "</style>\n",
       "<table border=\"1\" class=\"dataframe\">\n",
       "  <thead>\n",
       "    <tr style=\"text-align: right;\">\n",
       "      <th></th>\n",
       "      <th>vbc_read_col</th>\n",
       "      <th>label</th>\n",
       "      <th>type</th>\n",
       "      <th>umi_count</th>\n",
       "      <th>read_count</th>\n",
       "      <th>brain</th>\n",
       "      <th>region</th>\n",
       "      <th>site</th>\n",
       "    </tr>\n",
       "  </thead>\n",
       "  <tbody>\n",
       "    <tr>\n",
       "      <th>0</th>\n",
       "      <td>AAAAAAACAGCTAAAGAATCCTTGTTCACC</td>\n",
       "      <td>BC206</td>\n",
       "      <td>lone</td>\n",
       "      <td>1</td>\n",
       "      <td>4</td>\n",
       "      <td>NaN</td>\n",
       "      <td>NaN</td>\n",
       "      <td>target-lone</td>\n",
       "    </tr>\n",
       "    <tr>\n",
       "      <th>1</th>\n",
       "      <td>AAAAAAACCGGCCTTGTACTTGGTTCTCTT</td>\n",
       "      <td>BC203</td>\n",
       "      <td>real</td>\n",
       "      <td>3</td>\n",
       "      <td>44</td>\n",
       "      <td>6.0</td>\n",
       "      <td>NaN</td>\n",
       "      <td>target</td>\n",
       "    </tr>\n",
       "    <tr>\n",
       "      <th>2</th>\n",
       "      <td>AAAAAAACCTGGGCCCGTTAAGTCACGTTT</td>\n",
       "      <td>BC206</td>\n",
       "      <td>lone</td>\n",
       "      <td>13</td>\n",
       "      <td>156</td>\n",
       "      <td>NaN</td>\n",
       "      <td>NaN</td>\n",
       "      <td>target-lone</td>\n",
       "    </tr>\n",
       "    <tr>\n",
       "      <th>3</th>\n",
       "      <td>AAAAAAACTATCTATGAACTATTGTTATTA</td>\n",
       "      <td>BC206</td>\n",
       "      <td>lone</td>\n",
       "      <td>8</td>\n",
       "      <td>86</td>\n",
       "      <td>NaN</td>\n",
       "      <td>NaN</td>\n",
       "      <td>target-lone</td>\n",
       "    </tr>\n",
       "    <tr>\n",
       "      <th>4</th>\n",
       "      <td>AAAAAAAGAGGAACATTGTGCTTCTAGCAA</td>\n",
       "      <td>BC206</td>\n",
       "      <td>lone</td>\n",
       "      <td>3</td>\n",
       "      <td>31</td>\n",
       "      <td>NaN</td>\n",
       "      <td>NaN</td>\n",
       "      <td>target-lone</td>\n",
       "    </tr>\n",
       "    <tr>\n",
       "      <th>...</th>\n",
       "      <td>...</td>\n",
       "      <td>...</td>\n",
       "      <td>...</td>\n",
       "      <td>...</td>\n",
       "      <td>...</td>\n",
       "      <td>...</td>\n",
       "      <td>...</td>\n",
       "      <td>...</td>\n",
       "    </tr>\n",
       "    <tr>\n",
       "      <th>644949</th>\n",
       "      <td>TTTTTTTGTGAACCCGGCCTTTTCAAGTAT</td>\n",
       "      <td>BC206</td>\n",
       "      <td>lone</td>\n",
       "      <td>6</td>\n",
       "      <td>76</td>\n",
       "      <td>NaN</td>\n",
       "      <td>NaN</td>\n",
       "      <td>target-lone</td>\n",
       "    </tr>\n",
       "    <tr>\n",
       "      <th>644950</th>\n",
       "      <td>TTTTTTTGTGGTAGAATTCTAATCCGAACA</td>\n",
       "      <td>BC206</td>\n",
       "      <td>real</td>\n",
       "      <td>1</td>\n",
       "      <td>6</td>\n",
       "      <td>NaN</td>\n",
       "      <td>NaN</td>\n",
       "      <td>target-lone</td>\n",
       "    </tr>\n",
       "    <tr>\n",
       "      <th>644951</th>\n",
       "      <td>TTTTTTTGTGTATTAGTCGCCGTGTTGGTC</td>\n",
       "      <td>BC199</td>\n",
       "      <td>real</td>\n",
       "      <td>1</td>\n",
       "      <td>10</td>\n",
       "      <td>6.0</td>\n",
       "      <td>NaN</td>\n",
       "      <td>target</td>\n",
       "    </tr>\n",
       "    <tr>\n",
       "      <th>644952</th>\n",
       "      <td>TTTTTTTGTGTATTAGTCGCCGTGTTGGTC</td>\n",
       "      <td>BC203</td>\n",
       "      <td>real</td>\n",
       "      <td>23</td>\n",
       "      <td>230</td>\n",
       "      <td>6.0</td>\n",
       "      <td>NaN</td>\n",
       "      <td>target</td>\n",
       "    </tr>\n",
       "    <tr>\n",
       "      <th>644953</th>\n",
       "      <td>TTTTTTTGTTTTGTTTAAGCTTCTTAGCAA</td>\n",
       "      <td>BC206</td>\n",
       "      <td>lone</td>\n",
       "      <td>76</td>\n",
       "      <td>833</td>\n",
       "      <td>NaN</td>\n",
       "      <td>NaN</td>\n",
       "      <td>target-lone</td>\n",
       "    </tr>\n",
       "  </tbody>\n",
       "</table>\n",
       "<p>644954 rows × 8 columns</p>\n",
       "</div>"
      ],
      "text/plain": [
       "                          vbc_read_col  label  type  umi_count  read_count  \\\n",
       "0       AAAAAAACAGCTAAAGAATCCTTGTTCACC  BC206  lone          1           4   \n",
       "1       AAAAAAACCGGCCTTGTACTTGGTTCTCTT  BC203  real          3          44   \n",
       "2       AAAAAAACCTGGGCCCGTTAAGTCACGTTT  BC206  lone         13         156   \n",
       "3       AAAAAAACTATCTATGAACTATTGTTATTA  BC206  lone          8          86   \n",
       "4       AAAAAAAGAGGAACATTGTGCTTCTAGCAA  BC206  lone          3          31   \n",
       "...                                ...    ...   ...        ...         ...   \n",
       "644949  TTTTTTTGTGAACCCGGCCTTTTCAAGTAT  BC206  lone          6          76   \n",
       "644950  TTTTTTTGTGGTAGAATTCTAATCCGAACA  BC206  real          1           6   \n",
       "644951  TTTTTTTGTGTATTAGTCGCCGTGTTGGTC  BC199  real          1          10   \n",
       "644952  TTTTTTTGTGTATTAGTCGCCGTGTTGGTC  BC203  real         23         230   \n",
       "644953  TTTTTTTGTTTTGTTTAAGCTTCTTAGCAA  BC206  lone         76         833   \n",
       "\n",
       "       brain region         site  \n",
       "0        NaN    NaN  target-lone  \n",
       "1        6.0    NaN       target  \n",
       "2        NaN    NaN  target-lone  \n",
       "3        NaN    NaN  target-lone  \n",
       "4        NaN    NaN  target-lone  \n",
       "...      ...    ...          ...  \n",
       "644949   NaN    NaN  target-lone  \n",
       "644950   NaN    NaN  target-lone  \n",
       "644951   6.0    NaN       target  \n",
       "644952   6.0    NaN       target  \n",
       "644953   NaN    NaN  target-lone  \n",
       "\n",
       "[644954 rows x 8 columns]"
      ]
     },
     "execution_count": 12,
     "metadata": {},
     "output_type": "execute_result"
    }
   ],
   "source": [
    "vbcdf = load_mapseq_df( vbctable, fformat='vbctable', use_dask=False)\n",
    "vbcdf"
   ]
  },
  {
   "cell_type": "code",
   "execution_count": 13,
   "id": "e3008401-983d-4371-acf4-ecedd17bc14d",
   "metadata": {},
   "outputs": [
    {
     "name": "stdout",
     "output_type": "stream",
     "text": [
      "target_min_umi=2\n",
      "inj_min_umi=10 \n",
      "use_target_negative=False\n",
      "use_target_water_control=False\n"
     ]
    }
   ],
   "source": [
    "require_injection = cp.getboolean('matrices','require_injection')\n",
    "inj_min_umi = int(cp.get('matrices','inj_min_umi'))\n",
    "target_min_umi = int(cp.get('matrices','target_min_umi'))\n",
    "target_min_umi_absolute = int(cp.get('matrices','target_min_umi_absolute'))\n",
    "use_target_negative=cp.getboolean('matrices','use_target_negative')\n",
    "use_target_water_control=cp.getboolean('matrices','use_target_water_control')\n",
    "print(f'target_min_umi={target_min_umi}\\ninj_min_umi={inj_min_umi} \\nuse_target_negative={use_target_negative}\\nuse_target_water_control={use_target_water_control}')\n"
   ]
  },
  {
   "cell_type": "markdown",
   "id": "d5293fc3-61e1-4ed5-be5d-03dbadfab228",
   "metadata": {},
   "source": [
    "### Characterize data"
   ]
  },
  {
   "cell_type": "code",
   "execution_count": 22,
   "id": "2922c295-7af9-418a-a544-3ef1a19efa0e",
   "metadata": {},
   "outputs": [
    {
     "name": "stdout",
     "output_type": "stream",
     "text": [
      "total vbcs: 644954\n",
      "\n",
      "overall type counts:\n",
      "lone\t:\t537550 (0.83) \n",
      "real\t:\t97807 (0.15) \n",
      "spike\t:\t9597 (0.01) \n",
      "\n",
      "overall site counts:\n",
      "target-lone\t:\t529407 (0.82) \n",
      "target\t:\t105610 (0.16) \n",
      "target-negative-bio\t:\t5245 (0.01) \n",
      "target-negative\t:\t4028 (0.01) \n",
      "target-water-control\t:\t664 (0.00) \n",
      "\n",
      "type-specific counts:\n",
      "lone: 537550\n",
      "      target-lone :\t524843 (0.98) \n",
      "      target :\t10197 (0.02) \n",
      "      target-negative-bio :\t1148 (0.00) \n",
      "      target-negative :\t1254 (0.00) \n",
      "      target-water-control :\t108 (0.00) \n",
      "\n",
      "real: 97807\n",
      "      target :\t88133 (0.90) \n",
      "      target-negative-bio :\t3226 (0.03) \n",
      "      target-negative :\t2347 (0.02) \n",
      "      target-lone :\t3799 (0.04) \n",
      "      target-water-control :\t302 (0.00) \n",
      "\n",
      "spike: 9597\n",
      "      target :\t7280 (0.76) \n",
      "      target-lone :\t765 (0.08) \n",
      "      target-negative-bio :\t871 (0.09) \n",
      "      target-negative :\t427 (0.04) \n",
      "      target-water-control :\t254 (0.03) \n",
      "\n"
     ]
    }
   ],
   "source": [
    "tn = len(vbcdf)\n",
    "print(f'total vbcs: {tn}')\n",
    "print('\\noverall type counts:')\n",
    "vtypes = list( vbcdf['type'].unique())\n",
    "for t in vtypes:\n",
    "    n = len(vbcdf[ vbcdf['type'] == t ])\n",
    "    p = n / tn\n",
    "    print(f'{t}\\t:\\t{n} ({p:.2f}) ')\n",
    "\n",
    "print('\\noverall site counts:')\n",
    "for s in vbcdf['site'].unique(): \n",
    "    n = len( vbcdf[ vbcdf['site'] == s ])\n",
    "    p = n / tn\n",
    "    print(f'{s}\\t:\\t{n} ({p:.2f}) ')\n",
    "\n",
    "print('\\ntype-specific counts:')\n",
    "for vt in vtypes:\n",
    "    sdf = vbcdf[ vbcdf['type'] == vt ]\n",
    "    sn = len(sdf)\n",
    "    print(f'{vt}: {sn}')\n",
    "    for s in sdf['site'].unique(): \n",
    "        n = len( sdf[ sdf['site'] == s ])\n",
    "        p = n / sn\n",
    "        print(f'      {s} :\\t{n} ({p:.2f}) ')\n",
    "    print('')"
   ]
  },
  {
   "cell_type": "code",
   "execution_count": 26,
   "id": "11879c02-c5a5-404e-9a91-e948530e4989",
   "metadata": {},
   "outputs": [
    {
     "name": "stdout",
     "output_type": "stream",
     "text": [
      "target_min_umi = 2\n"
     ]
    },
    {
     "data": {
      "text/plain": [
       "label  site                \n",
       "BC193  target                     583\n",
       "BC194  target                     316\n",
       "BC195  target                     499\n",
       "BC196  target                     577\n",
       "BC197  target                   22785\n",
       "BC198  target                    1049\n",
       "BC199  target                     904\n",
       "BC200  target                     657\n",
       "BC201  target                     526\n",
       "BC202  target                    1375\n",
       "BC203  target                    7079\n",
       "BC204  target-negative-bio        655\n",
       "BC205  target-negative            532\n",
       "BC206  target-lone             259423\n",
       "BC207  target-water-control        20\n",
       "Name: umi_count, dtype: int64"
      ]
     },
     "execution_count": 26,
     "metadata": {},
     "output_type": "execute_result"
    }
   ],
   "source": [
    "print(f'target_min_umi = {target_min_umi}')\n",
    "tdf = vbcdf[vbcdf['umi_count'] > target_min_umi]\n",
    "tdf.groupby(['label','site'], observed=True).count()['umi_count']"
   ]
  }
 ],
 "metadata": {
  "kernelspec": {
   "display_name": "Python 3 (ipykernel)",
   "language": "python",
   "name": "python3"
  },
  "language_info": {
   "codemirror_mode": {
    "name": "ipython",
    "version": 3
   },
   "file_extension": ".py",
   "mimetype": "text/x-python",
   "name": "python",
   "nbconvert_exporter": "python",
   "pygments_lexer": "ipython3",
   "version": "3.12.0"
  }
 },
 "nbformat": 4,
 "nbformat_minor": 5
}
